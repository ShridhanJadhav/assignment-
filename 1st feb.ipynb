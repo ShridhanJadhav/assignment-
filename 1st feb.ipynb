{
 "cells": [
  {
   "cell_type": "code",
   "execution_count": 4,
   "id": "71614d47-d111-427e-9f1c-2777c6490774",
   "metadata": {},
   "outputs": [],
   "source": [
    "d={}"
   ]
  },
  {
   "cell_type": "code",
   "execution_count": 6,
   "id": "42db115e-5b6d-421e-9df0-00971b5e3d65",
   "metadata": {},
   "outputs": [
    {
     "data": {
      "text/plain": [
       "dict"
      ]
     },
     "execution_count": 6,
     "metadata": {},
     "output_type": "execute_result"
    }
   ],
   "source": [
    "type(d)"
   ]
  },
  {
   "cell_type": "code",
   "execution_count": 7,
   "id": "766d5ce0-9869-4f53-aa37-e6e6ecbb2558",
   "metadata": {},
   "outputs": [],
   "source": [
    "d1={'key':'shri'}"
   ]
  },
  {
   "cell_type": "code",
   "execution_count": 8,
   "id": "346dfc05-77cb-401f-81a3-7e38e57faa1d",
   "metadata": {},
   "outputs": [
    {
     "data": {
      "text/plain": [
       "{'key': 'shri'}"
      ]
     },
     "execution_count": 8,
     "metadata": {},
     "output_type": "execute_result"
    }
   ],
   "source": [
    "d1"
   ]
  },
  {
   "cell_type": "code",
   "execution_count": 2,
   "id": "ab372340-7f69-459d-9985-50c1711829d0",
   "metadata": {},
   "outputs": [],
   "source": [
    "d2={'name': 'shri', 'email': 'shridhanjadhav@gmail.com' , 'number': 99}"
   ]
  },
  {
   "cell_type": "code",
   "execution_count": 3,
   "id": "15620c31-9e55-40ca-b819-acfba929ba1c",
   "metadata": {},
   "outputs": [
    {
     "data": {
      "text/plain": [
       "{'name': 'shri', 'email': 'shridhanjadhav@gmail.com', 'number': 99}"
      ]
     },
     "execution_count": 3,
     "metadata": {},
     "output_type": "execute_result"
    }
   ],
   "source": [
    "d2"
   ]
  },
  {
   "cell_type": "code",
   "execution_count": 11,
   "id": "d26dd0bd-fbba-4900-8db0-5ba6855ed3fc",
   "metadata": {},
   "outputs": [],
   "source": [
    "d3={234:'sri', '_sd':'shri', True:345}"
   ]
  },
  {
   "cell_type": "code",
   "execution_count": 12,
   "id": "af315fb8-8fe0-4aaf-b59d-d3ab2e62b67c",
   "metadata": {},
   "outputs": [
    {
     "data": {
      "text/plain": [
       "{234: 'sri', '_sd': 'shri', True: 345}"
      ]
     },
     "execution_count": 12,
     "metadata": {},
     "output_type": "execute_result"
    }
   ],
   "source": [
    "d3"
   ]
  },
  {
   "cell_type": "code",
   "execution_count": 16,
   "id": "8a30ec4c-40ba-46b3-b0c0-7c403b20ce48",
   "metadata": {},
   "outputs": [
    {
     "data": {
      "text/plain": [
       "'sri'"
      ]
     },
     "execution_count": 16,
     "metadata": {},
     "output_type": "execute_result"
    }
   ],
   "source": [
    "d3[234]"
   ]
  },
  {
   "cell_type": "code",
   "execution_count": 17,
   "id": "0a2785a1-c100-40d3-94d2-d3b683d183e6",
   "metadata": {},
   "outputs": [
    {
     "data": {
      "text/plain": [
       "345"
      ]
     },
     "execution_count": 17,
     "metadata": {},
     "output_type": "execute_result"
    }
   ],
   "source": [
    "d3[True]"
   ]
  },
  {
   "cell_type": "code",
   "execution_count": 18,
   "id": "05822ae1-271b-4db1-8d24-bc26e0b0488e",
   "metadata": {},
   "outputs": [
    {
     "data": {
      "text/plain": [
       "345"
      ]
     },
     "execution_count": 18,
     "metadata": {},
     "output_type": "execute_result"
    }
   ],
   "source": [
    "d3[1]"
   ]
  },
  {
   "cell_type": "code",
   "execution_count": 19,
   "id": "3ecae202-edbd-4722-aa1d-327c1f28f896",
   "metadata": {},
   "outputs": [],
   "source": [
    "d4={'name':'shri','mail':'shri@gmail','name':'shridhan'}"
   ]
  },
  {
   "cell_type": "code",
   "execution_count": 20,
   "id": "504d0a41-66c7-4085-aa53-570322d03abb",
   "metadata": {},
   "outputs": [
    {
     "data": {
      "text/plain": [
       "'shridhan'"
      ]
     },
     "execution_count": 20,
     "metadata": {},
     "output_type": "execute_result"
    }
   ],
   "source": [
    "d4['name']"
   ]
  },
  {
   "cell_type": "code",
   "execution_count": 21,
   "id": "a11053f2-1196-47f9-99f7-ba139f143021",
   "metadata": {},
   "outputs": [],
   "source": [
    "d5={'company':'pwskills', 'course':['web dev', 'data science','java']} \n",
    "                                    "
   ]
  },
  {
   "cell_type": "code",
   "execution_count": 24,
   "id": "b694c35c-6a96-44be-8b19-2075f52f4b73",
   "metadata": {},
   "outputs": [
    {
     "data": {
      "text/plain": [
       "'java'"
      ]
     },
     "execution_count": 24,
     "metadata": {},
     "output_type": "execute_result"
    }
   ],
   "source": [
    "d5['course'][2]"
   ]
  },
  {
   "cell_type": "code",
   "execution_count": 26,
   "id": "059fb180-7537-4b9e-8205-35f16391caad",
   "metadata": {},
   "outputs": [],
   "source": [
    "d6={'number':[2,33,433,5,22], 'assignment':[1,3,5,],'launch date':[26,27,28],'class time':{'web dev': 8, 'java':6,'ds':8}}"
   ]
  },
  {
   "cell_type": "code",
   "execution_count": 27,
   "id": "a1dc996a-4e01-465c-a47c-5a57b7ee0aca",
   "metadata": {},
   "outputs": [
    {
     "data": {
      "text/plain": [
       "{'number': [2, 33, 433, 5, 22],\n",
       " 'assignment': [1, 3, 5],\n",
       " 'launch date': [26, 27, 28],\n",
       " 'class time': {'web dev': 8, 'java': 6, 'ds': 8}}"
      ]
     },
     "execution_count": 27,
     "metadata": {},
     "output_type": "execute_result"
    }
   ],
   "source": [
    "d6"
   ]
  },
  {
   "cell_type": "code",
   "execution_count": 30,
   "id": "cc513120-176f-43a1-af5b-29c2b279d139",
   "metadata": {},
   "outputs": [
    {
     "data": {
      "text/plain": [
       "6"
      ]
     },
     "execution_count": 30,
     "metadata": {},
     "output_type": "execute_result"
    }
   ],
   "source": [
    "d6['class time']['java']"
   ]
  },
  {
   "cell_type": "code",
   "execution_count": 31,
   "id": "ae621548-42fe-4e56-b927-7e1ec7f19c67",
   "metadata": {},
   "outputs": [
    {
     "data": {
      "text/plain": [
       "{'number': [2, 33, 433, 5, 22],\n",
       " 'assignment': [1, 3, 5],\n",
       " 'launch date': [26, 27, 28],\n",
       " 'class time': {'web dev': 8, 'java': 6, 'ds': 8}}"
      ]
     },
     "execution_count": 31,
     "metadata": {},
     "output_type": "execute_result"
    }
   ],
   "source": [
    "d6"
   ]
  },
  {
   "cell_type": "code",
   "execution_count": 32,
   "id": "0263cab1-8b33-4a37-a631-3d2ac3ed3344",
   "metadata": {},
   "outputs": [],
   "source": [
    "d6['mentor']=['sudhanshu','krish','anurag']"
   ]
  },
  {
   "cell_type": "code",
   "execution_count": 33,
   "id": "145245c1-e41a-43e0-8bff-f061143aa517",
   "metadata": {},
   "outputs": [
    {
     "data": {
      "text/plain": [
       "{'number': [2, 33, 433, 5, 22],\n",
       " 'assignment': [1, 3, 5],\n",
       " 'launch date': [26, 27, 28],\n",
       " 'class time': {'web dev': 8, 'java': 6, 'ds': 8},\n",
       " 'mentor': ['sudhanshu', 'krish', 'anurag']}"
      ]
     },
     "execution_count": 33,
     "metadata": {},
     "output_type": "execute_result"
    }
   ],
   "source": [
    "d6"
   ]
  },
  {
   "cell_type": "code",
   "execution_count": 34,
   "id": "67f2ed4d-343f-4c51-8272-04620f78bc0a",
   "metadata": {},
   "outputs": [],
   "source": [
    "del d6['number']"
   ]
  },
  {
   "cell_type": "code",
   "execution_count": 35,
   "id": "51a86f6b-a0bc-49ef-b096-af56b185ff53",
   "metadata": {},
   "outputs": [
    {
     "data": {
      "text/plain": [
       "{'assignment': [1, 3, 5],\n",
       " 'launch date': [26, 27, 28],\n",
       " 'class time': {'web dev': 8, 'java': 6, 'ds': 8},\n",
       " 'mentor': ['sudhanshu', 'krish', 'anurag']}"
      ]
     },
     "execution_count": 35,
     "metadata": {},
     "output_type": "execute_result"
    }
   ],
   "source": [
    "d6"
   ]
  },
  {
   "cell_type": "code",
   "execution_count": 38,
   "id": "55f9bc2d-97c0-44f6-9f57-25ba39cdf21f",
   "metadata": {},
   "outputs": [
    {
     "data": {
      "text/plain": [
       "[[1, 3, 5],\n",
       " [26, 27, 28],\n",
       " {'web dev': 8, 'java': 6, 'ds': 8},\n",
       " ['sudhanshu', 'krish', 'anurag']]"
      ]
     },
     "execution_count": 38,
     "metadata": {},
     "output_type": "execute_result"
    }
   ],
   "source": [
    "list(d6.values ())"
   ]
  },
  {
   "cell_type": "code",
   "execution_count": 40,
   "id": "03203786-fbb5-4fee-b089-ab80bff3328c",
   "metadata": {},
   "outputs": [
    {
     "data": {
      "text/plain": [
       "[('assignment', [1, 3, 5]),\n",
       " ('launch date', [26, 27, 28]),\n",
       " ('class time', {'web dev': 8, 'java': 6, 'ds': 8}),\n",
       " ('mentor', ['sudhanshu', 'krish', 'anurag'])]"
      ]
     },
     "execution_count": 40,
     "metadata": {},
     "output_type": "execute_result"
    }
   ],
   "source": [
    "list(d6.items())"
   ]
  },
  {
   "cell_type": "code",
   "execution_count": 42,
   "id": "2dfdc974-03ab-4db9-b52d-675ba3bda46a",
   "metadata": {},
   "outputs": [
    {
     "data": {
      "text/plain": [
       "[1, 3, 5]"
      ]
     },
     "execution_count": 42,
     "metadata": {},
     "output_type": "execute_result"
    }
   ],
   "source": [
    "d6.pop('assignment')"
   ]
  },
  {
   "cell_type": "code",
   "execution_count": 43,
   "id": "ccc93750-adda-4f2f-bc35-fd9cdde34974",
   "metadata": {},
   "outputs": [
    {
     "data": {
      "text/plain": [
       "{'launch date': [26, 27, 28],\n",
       " 'class time': {'web dev': 8, 'java': 6, 'ds': 8},\n",
       " 'mentor': ['sudhanshu', 'krish', 'anurag']}"
      ]
     },
     "execution_count": 43,
     "metadata": {},
     "output_type": "execute_result"
    }
   ],
   "source": [
    "d6"
   ]
  },
  {
   "cell_type": "code",
   "execution_count": 44,
   "id": "28e0294a-07c2-418e-927c-6b8d1cb44083",
   "metadata": {},
   "outputs": [
    {
     "ename": "TypeError",
     "evalue": "pop expected at least 1 argument, got 0",
     "output_type": "error",
     "traceback": [
      "\u001b[0;31m---------------------------------------------------------------------------\u001b[0m",
      "\u001b[0;31mTypeError\u001b[0m                                 Traceback (most recent call last)",
      "Cell \u001b[0;32mIn[44], line 1\u001b[0m\n\u001b[0;32m----> 1\u001b[0m \u001b[43md6\u001b[49m\u001b[38;5;241;43m.\u001b[39;49m\u001b[43mpop\u001b[49m\u001b[43m(\u001b[49m\u001b[43m)\u001b[49m\n",
      "\u001b[0;31mTypeError\u001b[0m: pop expected at least 1 argument, got 0"
     ]
    }
   ],
   "source": [
    "d6.pop()"
   ]
  },
  {
   "cell_type": "code",
   "execution_count": 45,
   "id": "537206fd-3e56-45a1-8905-388d4df75c7c",
   "metadata": {},
   "outputs": [
    {
     "data": {
      "text/plain": [
       "{'launch date': [26, 27, 28],\n",
       " 'class time': {'web dev': 8, 'java': 6, 'ds': 8},\n",
       " 'mentor': ['sudhanshu', 'krish', 'anurag']}"
      ]
     },
     "execution_count": 45,
     "metadata": {},
     "output_type": "execute_result"
    }
   ],
   "source": [
    "d6"
   ]
  },
  {
   "cell_type": "code",
   "execution_count": 60,
   "id": "c2649921-017d-4443-a487-860f3bae47f6",
   "metadata": {},
   "outputs": [
    {
     "name": "stdin",
     "output_type": "stream",
     "text": [
      "enter your marks -6\n"
     ]
    },
    {
     "name": "stdout",
     "output_type": "stream",
     "text": [
      "you will be a part of A3 batch\n"
     ]
    }
   ],
   "source": [
    "marks=int(input('enter your marks'))\n",
    "if marks>=80:\n",
    "    print('you will be a part of A0 batch')\n",
    "elif marks>=60 and marks<80:\n",
    "    print('you will be a part of A1 batch')\n",
    "elif marks>=40 and marks<60:\n",
    "    print('you will be a part of A2 batch')\n",
    "else:\n",
    "    print('you will be a part of A3 batch')\n"
   ]
  },
  {
   "cell_type": "code",
   "execution_count": 52,
   "id": "5b93a063-e75f-4603-b6a8-40d7b64facb8",
   "metadata": {},
   "outputs": [
    {
     "data": {
      "text/plain": [
       "False"
      ]
     },
     "execution_count": 52,
     "metadata": {},
     "output_type": "execute_result"
    }
   ],
   "source": [
    "10>=80"
   ]
  },
  {
   "cell_type": "code",
   "execution_count": 56,
   "id": "ed5e903a-4fa1-4f61-b55c-4b097623adb3",
   "metadata": {},
   "outputs": [
    {
     "name": "stdin",
     "output_type": "stream",
     "text": [
      "enter your marks 45\n"
     ]
    }
   ],
   "source": [
    "marks=int(input('enter your marks'))"
   ]
  },
  {
   "cell_type": "code",
   "execution_count": 57,
   "id": "eac14cde-1695-4fad-a814-e1edadd4b29e",
   "metadata": {},
   "outputs": [
    {
     "data": {
      "text/plain": [
       "45"
      ]
     },
     "execution_count": 57,
     "metadata": {},
     "output_type": "execute_result"
    }
   ],
   "source": [
    "marks"
   ]
  },
  {
   "cell_type": "code",
   "execution_count": 58,
   "id": "110301f5-4e24-4c9d-81c0-4dfb9f512c49",
   "metadata": {},
   "outputs": [
    {
     "data": {
      "text/plain": [
       "int"
      ]
     },
     "execution_count": 58,
     "metadata": {},
     "output_type": "execute_result"
    }
   ],
   "source": [
    "type(marks)"
   ]
  },
  {
   "cell_type": "code",
   "execution_count": 62,
   "id": "c7f0a585-fc60-4279-a6cf-10ad68701719",
   "metadata": {},
   "outputs": [
    {
     "name": "stdin",
     "output_type": "stream",
     "text": [
      "enter Price 500\n"
     ]
    },
    {
     "name": "stdout",
     "output_type": "stream",
     "text": [
      "i will purchase\n"
     ]
    }
   ],
   "source": [
    "price=int(input('enter Price'))\n",
    "if price>1000:\n",
    "    print('i will not purchase')\n",
    "else:\n",
    "    print('i will purchase')"
   ]
  },
  {
   "cell_type": "code",
   "execution_count": 72,
   "id": "3678c42e-0792-4590-87e9-caf748655541",
   "metadata": {},
   "outputs": [
    {
     "name": "stdin",
     "output_type": "stream",
     "text": [
      "enter Price 700\n"
     ]
    },
    {
     "name": "stdout",
     "output_type": "stream",
     "text": [
      "i will purhase\n"
     ]
    }
   ],
   "source": [
    "price=int(input('enter Price'))\n",
    "if price>1000:\n",
    "    print('i will not purchase')\n",
    "    if price>5000:\n",
    "        print('this is too much')\n",
    "    elif price<2000:\n",
    "        print('its ok')\n",
    "elif price<1000:\n",
    "        print('i will purhase')"
   ]
  },
  {
   "cell_type": "code",
   "execution_count": 76,
   "id": "752f60b2-27ae-430c-a37b-993d3dfcd315",
   "metadata": {},
   "outputs": [],
   "source": [
    "l=[1,2,3,4,6,7,8,9]"
   ]
  },
  {
   "cell_type": "code",
   "execution_count": 79,
   "id": "7651755b-c76d-4a7b-bd5c-eb877382075d",
   "metadata": {},
   "outputs": [
    {
     "data": {
      "text/plain": [
       "2"
      ]
     },
     "execution_count": 79,
     "metadata": {},
     "output_type": "execute_result"
    }
   ],
   "source": [
    "l[0]+1"
   ]
  },
  {
   "cell_type": "code",
   "execution_count": 78,
   "id": "84a0befe-2093-462a-9b05-b46ee790ccea",
   "metadata": {},
   "outputs": [],
   "source": [
    "l1=[]"
   ]
  },
  {
   "cell_type": "code",
   "execution_count": 82,
   "id": "c909aa76-8b0e-4117-abd9-45e95598a8d3",
   "metadata": {},
   "outputs": [],
   "source": [
    "l1.append(l[0]+1)"
   ]
  },
  {
   "cell_type": "code",
   "execution_count": 83,
   "id": "5a5c629e-beb1-4a3c-bd00-1ed266d73b61",
   "metadata": {},
   "outputs": [
    {
     "data": {
      "text/plain": [
       "[2]"
      ]
     },
     "execution_count": 83,
     "metadata": {},
     "output_type": "execute_result"
    }
   ],
   "source": [
    "l1"
   ]
  },
  {
   "cell_type": "code",
   "execution_count": 85,
   "id": "c8d61690-8f2b-449f-a205-fae11120456f",
   "metadata": {},
   "outputs": [],
   "source": [
    "l=[1,2,3,4,6,7,8,9]"
   ]
  },
  {
   "cell_type": "code",
   "execution_count": 90,
   "id": "7c2046ee-9487-4197-b6d4-00da7f00cf37",
   "metadata": {},
   "outputs": [
    {
     "name": "stdout",
     "output_type": "stream",
     "text": [
      "2\n",
      "3\n",
      "4\n",
      "5\n",
      "7\n",
      "8\n",
      "9\n",
      "10\n"
     ]
    }
   ],
   "source": [
    "l1=[]\n",
    "for i in l:\n",
    "    print(i+1)\n",
    "    l1.append(i+1)"
   ]
  },
  {
   "cell_type": "code",
   "execution_count": 92,
   "id": "67e971b8-cf79-4213-8b9c-a8473ee462b6",
   "metadata": {},
   "outputs": [
    {
     "data": {
      "text/plain": [
       "[2, 3, 4, 5, 7, 8, 9, 10]"
      ]
     },
     "execution_count": 92,
     "metadata": {},
     "output_type": "execute_result"
    }
   ],
   "source": [
    "l1"
   ]
  },
  {
   "cell_type": "code",
   "execution_count": 93,
   "id": "c5bcd512-e92a-4e02-b723-24a9a2d92608",
   "metadata": {},
   "outputs": [],
   "source": [
    "l=['shri','shridhan','jadhav']"
   ]
  },
  {
   "cell_type": "code",
   "execution_count": 95,
   "id": "e20846d7-ba9b-4589-9aac-b8192dbfeb35",
   "metadata": {},
   "outputs": [
    {
     "name": "stdout",
     "output_type": "stream",
     "text": [
      "shri\n",
      "shridhan\n",
      "jadhav\n"
     ]
    }
   ],
   "source": [
    "l1=[]\n",
    "for i in l:\n",
    "    print(i)\n",
    "    l1.append(i.upper())\n",
    "    "
   ]
  },
  {
   "cell_type": "code",
   "execution_count": 96,
   "id": "dbae0c84-4311-4aa6-94cf-54b36ce1f15a",
   "metadata": {},
   "outputs": [
    {
     "data": {
      "text/plain": [
       "['SHRI', 'SHRIDHAN', 'JADHAV']"
      ]
     },
     "execution_count": 96,
     "metadata": {},
     "output_type": "execute_result"
    }
   ],
   "source": [
    "l1"
   ]
  },
  {
   "cell_type": "code",
   "execution_count": 97,
   "id": "dd2a1c56-ee58-460e-bc62-2cc3fbff428f",
   "metadata": {},
   "outputs": [],
   "source": [
    "l=[1,2,3,4,5, 'shri', 'kumar',54.44,'abc']"
   ]
  },
  {
   "cell_type": "code",
   "execution_count": 100,
   "id": "228179d3-b7ba-4e1f-a996-dbdbf98aa7ae",
   "metadata": {},
   "outputs": [
    {
     "name": "stdout",
     "output_type": "stream",
     "text": [
      "1\n",
      "2\n",
      "3\n",
      "4\n",
      "5\n",
      "shri\n",
      "kumar\n",
      "54.44\n",
      "abc\n"
     ]
    }
   ],
   "source": [
    "for i in l:\n",
    "    print(i)"
   ]
  },
  {
   "cell_type": "code",
   "execution_count": 101,
   "id": "ec9f78e0-09b4-42d5-b85c-37a4cacada80",
   "metadata": {},
   "outputs": [],
   "source": [
    "l1_num=[]\n",
    "l2_str=[]\n",
    "for i in l:\n",
    "    if type(i)==int or type(i)== float:\n",
    "        l1_num.append(i)\n",
    "    else:\n",
    "        l2_str.append(i)"
   ]
  },
  {
   "cell_type": "code",
   "execution_count": 102,
   "id": "27a68172-9e0a-41b7-b6bf-e07f768b6b0e",
   "metadata": {},
   "outputs": [
    {
     "data": {
      "text/plain": [
       "[1, 2, 3, 4, 5, 54.44]"
      ]
     },
     "execution_count": 102,
     "metadata": {},
     "output_type": "execute_result"
    }
   ],
   "source": [
    "l1_num"
   ]
  },
  {
   "cell_type": "code",
   "execution_count": 103,
   "id": "7ae7f54e-87c2-432f-8ee2-0000df22391c",
   "metadata": {},
   "outputs": [
    {
     "data": {
      "text/plain": [
       "['shri', 'kumar', 'abc']"
      ]
     },
     "execution_count": 103,
     "metadata": {},
     "output_type": "execute_result"
    }
   ],
   "source": [
    "l2_str"
   ]
  },
  {
   "cell_type": "code",
   "execution_count": null,
   "id": "fe383226-4c1f-4a68-b0b2-4a04d7caae59",
   "metadata": {},
   "outputs": [],
   "source": []
  }
 ],
 "metadata": {
  "kernelspec": {
   "display_name": "Python 3 (ipykernel)",
   "language": "python",
   "name": "python3"
  },
  "language_info": {
   "codemirror_mode": {
    "name": "ipython",
    "version": 3
   },
   "file_extension": ".py",
   "mimetype": "text/x-python",
   "name": "python",
   "nbconvert_exporter": "python",
   "pygments_lexer": "ipython3",
   "version": "3.10.8"
  }
 },
 "nbformat": 4,
 "nbformat_minor": 5
}
